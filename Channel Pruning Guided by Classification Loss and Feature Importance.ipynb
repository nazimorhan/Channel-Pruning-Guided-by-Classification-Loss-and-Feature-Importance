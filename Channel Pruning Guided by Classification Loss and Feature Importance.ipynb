{
  "nbformat": 4,
  "nbformat_minor": 5,
  "metadata": {
    "kernelspec": {
      "display_name": "Python 3",
      "language": "python",
      "name": "python3"
    },
    "language_info": {
      "codemirror_mode": {
        "name": "ipython",
        "version": 3
      },
      "file_extension": ".py",
      "mimetype": "text/x-python",
      "name": "python",
      "nbconvert_exporter": "python",
      "pygments_lexer": "ipython3",
      "version": "3.8.8"
    },
    "colab": {
      "name": "Channel Pruning Guided by Classification Loss and Feature Importance.ipynb",
      "provenance": []
    }
  },
  "cells": [
    {
      "cell_type": "code",
      "metadata": {
        "id": "f526f2f2"
      },
      "source": [
        "import torch\n",
        "import torchvision\n",
        "from torch import nn\n",
        "from torch.utils.data import DataLoader\n",
        "from torchvision import transforms\n",
        "from torchvision.datasets import MNIST\n",
        "from matplotlib import pyplot as plt\n",
        "from model import linear_layer\n",
        "import numpy as np"
      ],
      "id": "f526f2f2",
      "execution_count": null,
      "outputs": []
    },
    {
      "cell_type": "code",
      "metadata": {
        "id": "129a8fff",
        "outputId": "28a880e5-a739-4340-e6a0-d642233baf12"
      },
      "source": [
        "out = linear_layer(np.random.randn(3,3), np.eye(3))\n",
        "out"
      ],
      "id": "129a8fff",
      "execution_count": null,
      "outputs": [
        {
          "output_type": "execute_result",
          "data": {
            "text/plain": [
              "array([[ 0.50438724, -0.23135273, -1.61154705],\n",
              "       [ 0.08584148,  1.41748055, -0.75964418],\n",
              "       [ 1.11574283, -0.49302102, -1.26258968]])"
            ]
          },
          "metadata": {
            "tags": []
          },
          "execution_count": 6
        }
      ]
    },
    {
      "cell_type": "code",
      "metadata": {
        "id": "e7fe9f81"
      },
      "source": [
        "# Will it be updated at github???"
      ],
      "id": "e7fe9f81",
      "execution_count": null,
      "outputs": []
    }
  ]
}